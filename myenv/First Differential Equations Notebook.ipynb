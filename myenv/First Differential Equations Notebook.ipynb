{
 "cells": [
  {
   "cell_type": "code",
   "execution_count": 1,
   "id": "11654940",
   "metadata": {},
   "outputs": [
    {
     "name": "stdout",
     "output_type": "stream",
     "text": [
      "Requirement already satisfied: sympy in c:\\desenvolvimento\\teste\\python\\myenv\\lib\\site-packages (1.11.1)\n",
      "Requirement already satisfied: mpmath>=0.19 in c:\\desenvolvimento\\teste\\python\\myenv\\lib\\site-packages (from sympy) (1.2.1)\n",
      "Note: you may need to restart the kernel to use updated packages.\n"
     ]
    }
   ],
   "source": [
    "pip install sympy"
   ]
  },
  {
   "cell_type": "code",
   "execution_count": 4,
   "id": "5e9874af",
   "metadata": {},
   "outputs": [
    {
     "data": {
      "text/latex": [
       "$\\displaystyle - 5 f{\\left(x \\right)} + \\frac{d^{2}}{d x^{2}} f{\\left(x \\right)} = 10$"
      ],
      "text/plain": [
       "            2           \n",
       "           d            \n",
       "-5⋅f(x) + ───(f(x)) = 10\n",
       "            2           \n",
       "          dx            "
      ]
     },
     "metadata": {},
     "output_type": "display_data"
    },
    {
     "data": {
      "text/latex": [
       "$\\displaystyle f{\\left(x \\right)} = C_{1} e^{- \\sqrt{5} x} + C_{2} e^{\\sqrt{5} x} - 2$"
      ],
      "text/plain": [
       "           -√5⋅x       √5⋅x    \n",
       "f(x) = C₁⋅ℯ      + C₂⋅ℯ     - 2"
      ]
     },
     "execution_count": 4,
     "metadata": {},
     "output_type": "execute_result"
    }
   ],
   "source": [
    "from sympy.interactive import printing\n",
    "printing.init_printing(use_latex=True)\n",
    "from sympy import *\n",
    "import sympy as sp\n",
    "\n",
    "x = sp.symbols('x')\n",
    "f = sp.Function('f')(x)\n",
    "\n",
    "eqdif = Eq(f.diff(x,x)-5*f, 10)\n",
    "display(eqdif)\n",
    "\n",
    "dsolve(eqdif,f)"
   ]
  },
  {
   "cell_type": "code",
   "execution_count": 3,
   "id": "e47cce92",
   "metadata": {},
   "outputs": [
    {
     "name": "stdout",
     "output_type": "stream",
     "text": [
      "Ave Maria\n"
     ]
    }
   ],
   "source": [
    "print(\"Ave Maria\")"
   ]
  },
  {
   "cell_type": "code",
   "execution_count": 15,
   "id": "d81627a8",
   "metadata": {},
   "outputs": [
    {
     "data": {
      "text/latex": [
       "$\\displaystyle - 2 x f{\\left(x \\right)} + \\frac{d}{d x} f{\\left(x \\right)} = 0$"
      ],
      "text/plain": [
       "            d           \n",
       "-2⋅x⋅f(x) + ──(f(x)) = 0\n",
       "            dx          "
      ]
     },
     "metadata": {},
     "output_type": "display_data"
    },
    {
     "data": {
      "text/latex": [
       "$\\displaystyle f{\\left(x \\right)} = C_{1} e^{x^{2}}$"
      ],
      "text/plain": [
       "           ⎛ 2⎞\n",
       "           ⎝x ⎠\n",
       "f(x) = C₁⋅ℯ    "
      ]
     },
     "execution_count": 15,
     "metadata": {},
     "output_type": "execute_result"
    }
   ],
   "source": [
    "from sympy.interactive import printing\n",
    "printing.init_printing(use_latex=True)\n",
    "from sympy import *\n",
    "import sympy as sp\n",
    "\n",
    "x = sp.symbols('x')\n",
    "y = sp.symbols('y')\n",
    "f = sp.Function('f')(x) ## Se uma função tem apenas uma variável isto é y, y = f(x)\n",
    "\n",
    "eqdif = Eq(f.diff(x)-2*x*f, 0)\n",
    "display(eqdif)\n",
    "\n",
    "dsolve(eqdif,f)"
   ]
  },
  {
   "cell_type": "code",
   "execution_count": 19,
   "id": "2ac18fae",
   "metadata": {},
   "outputs": [
    {
     "data": {
      "text/latex": [
       "$\\displaystyle - 3 x + \\frac{d}{d x} f{\\left(x \\right)} - 5 = 0$"
      ],
      "text/plain": [
       "       d               \n",
       "-3⋅x + ──(f(x)) - 5 = 0\n",
       "       dx              "
      ]
     },
     "metadata": {},
     "output_type": "display_data"
    },
    {
     "data": {
      "text/latex": [
       "$\\displaystyle f{\\left(x \\right)} = C_{1} + \\frac{3 x^{2}}{2} + 5 x$"
      ],
      "text/plain": [
       "               2      \n",
       "            3⋅x       \n",
       "f(x) = C₁ + ──── + 5⋅x\n",
       "             2        "
      ]
     },
     "execution_count": 19,
     "metadata": {},
     "output_type": "execute_result"
    }
   ],
   "source": [
    "from sympy.interactive import printing\n",
    "printing.init_printing(use_latex=True)\n",
    "from sympy import *\n",
    "import sympy as sp\n",
    "\n",
    "x = sp.symbols('x')\n",
    "y = sp.symbols('y')\n",
    "f = sp.Function('f')(x) ## Se uma função tem apenas uma variável isto é y, y = f(x)\n",
    "\n",
    "eqdif = Eq(f.diff(x)-(3*x+5), 0)\n",
    "display(eqdif)\n",
    "\n",
    "dsolve(eqdif,f)"
   ]
  },
  {
   "cell_type": "code",
   "execution_count": 34,
   "id": "a3e120a8",
   "metadata": {},
   "outputs": [
    {
     "data": {
      "text/latex": [
       "$\\displaystyle - t x^{2} + \\frac{d}{d t} g{\\left(t \\right)} = 0$"
      ],
      "text/plain": [
       "     2   d           \n",
       "- t⋅x  + ──(g(t)) = 0\n",
       "         dt          "
      ]
     },
     "metadata": {},
     "output_type": "display_data"
    },
    {
     "data": {
      "text/latex": [
       "$\\displaystyle g{\\left(t \\right)} = C_{1} + \\frac{t^{2} x^{2}}{2}$"
      ],
      "text/plain": [
       "             2  2\n",
       "            t ⋅x \n",
       "g(t) = C₁ + ─────\n",
       "              2  "
      ]
     },
     "execution_count": 34,
     "metadata": {},
     "output_type": "execute_result"
    }
   ],
   "source": [
    "from sympy.interactive import printing\n",
    "printing.init_printing(use_latex=True)\n",
    "from sympy import *\n",
    "import sympy as sp\n",
    "import math \n",
    "\n",
    "x = sp.symbols('x')\n",
    "y = sp.symbols('y')\n",
    "t = sp.symbols('t')\n",
    "f = sp.Function('f')(x) ## Se uma função tem apenas uma variável isto é y, y = f(x)\n",
    "\n",
    "g = sp.Function('g')(t)\n",
    "\n",
    "eqdif = Eq(g.diff(t)-(x*x*t), 0)\n",
    "display(eqdif)\n",
    "\n",
    "dsolve(eqdif,g)"
   ]
  },
  {
   "cell_type": "code",
   "execution_count": 4,
   "id": "63f3add5",
   "metadata": {},
   "outputs": [
    {
     "data": {
      "text/latex": [
       "$\\displaystyle - x y^{2} + \\frac{d}{d x} f{\\left(x \\right)} = 0$"
      ],
      "text/plain": [
       "     2   d           \n",
       "- x⋅y  + ──(f(x)) = 0\n",
       "         dx          "
      ]
     },
     "metadata": {},
     "output_type": "display_data"
    },
    {
     "data": {
      "text/latex": [
       "$\\displaystyle f{\\left(x \\right)} = C_{1} + \\frac{x^{2} y^{2}}{2}$"
      ],
      "text/plain": [
       "             2  2\n",
       "            x ⋅y \n",
       "f(x) = C₁ + ─────\n",
       "              2  "
      ]
     },
     "execution_count": 4,
     "metadata": {},
     "output_type": "execute_result"
    }
   ],
   "source": [
    "from sympy.interactive import printing\n",
    "printing.init_printing(use_latex=True)\n",
    "from sympy import *\n",
    "import sympy as sp\n",
    "import math \n",
    "\n",
    "x = sp.symbols('x')\n",
    "y = sp.symbols('y')\n",
    "t = sp.symbols('t')\n",
    "\n",
    "f = sp.Function('f')(x) ## Se uma função tem apenas uma variável isto é y, y = f(x)\n",
    "g = sp.Function('g')(t)\n",
    "\n",
    "eqdif = Eq(f.diff(x)-((x*y*y)), 0)\n",
    "display(eqdif)\n",
    "\n",
    "dsolve(eqdif,f)"
   ]
  },
  {
   "cell_type": "code",
   "execution_count": 20,
   "id": "208518ee",
   "metadata": {},
   "outputs": [
    {
     "data": {
      "text/latex": [
       "$\\displaystyle \\frac{d}{d t} g{\\left(t \\right)} = t \\left(g^{2}{\\left(t \\right)} - 16\\right)$"
      ],
      "text/plain": [
       "d            ⎛ 2        ⎞\n",
       "──(g(t)) = t⋅⎝g (t) - 16⎠\n",
       "dt                       "
      ]
     },
     "metadata": {},
     "output_type": "display_data"
    },
    {
     "data": {
      "text/latex": [
       "$\\displaystyle g{\\left(t \\right)} = - \\frac{4}{\\tanh{\\left(C_{1} + 2 t^{2} \\right)}}$"
      ],
      "text/plain": [
       "             -4       \n",
       "g(t) = ───────────────\n",
       "           ⎛        2⎞\n",
       "       tanh⎝C₁ + 2⋅t ⎠"
      ]
     },
     "execution_count": 20,
     "metadata": {},
     "output_type": "execute_result"
    }
   ],
   "source": [
    "from sympy.interactive import printing\n",
    "printing.init_printing(use_latex=True)\n",
    "from sympy import *\n",
    "import sympy as sp\n",
    "import math \n",
    "\n",
    "x = sp.symbols('x')\n",
    "y = sp.symbols('y')\n",
    "t = sp.symbols('t')\n",
    "\n",
    "f = sp.Function('f')(x) ## Se uma função tem apenas uma variável isto é y, y = f(x)\n",
    "g = sp.Function('g')(t)\n",
    "\n",
    "eqdif = Eq(g.diff(t), (t*(g*g-16)))\n",
    "display(eqdif)\n",
    "\n",
    "dsolve(eqdif,g)"
   ]
  },
  {
   "cell_type": "code",
   "execution_count": 19,
   "id": "5db9a185",
   "metadata": {},
   "outputs": [
    {
     "data": {
      "text/latex": [
       "$\\displaystyle \\frac{d}{d t} g{\\left(t \\right)} = g^{2}{\\left(t \\right)} + 1$"
      ],
      "text/plain": [
       "d           2       \n",
       "──(g(t)) = g (t) + 1\n",
       "dt                  "
      ]
     },
     "metadata": {},
     "output_type": "display_data"
    },
    {
     "data": {
      "text/latex": [
       "$\\displaystyle g{\\left(t \\right)} = - \\tan{\\left(C_{1} - t \\right)}$"
      ],
      "text/plain": [
       "g(t) = -tan(C₁ - t)"
      ]
     },
     "execution_count": 19,
     "metadata": {},
     "output_type": "execute_result"
    }
   ],
   "source": [
    "from sympy.interactive import printing\n",
    "printing.init_printing(use_latex=True)\n",
    "from sympy import *\n",
    "import sympy as sp\n",
    "import math \n",
    "\n",
    "x = sp.symbols('x')\n",
    "y = sp.symbols('y')\n",
    "t = sp.symbols('t')\n",
    "\n",
    "f = sp.Function('f')(x) ## Se uma função tem apenas uma variável isto é y, y = f(x)\n",
    "g = sp.Function('g')(t)\n",
    "\n",
    "eqdif = Eq(g.diff(t), (1+g*g))\n",
    "display(eqdif)\n",
    "\n",
    "dsolve(eqdif,g)"
   ]
  },
  {
   "cell_type": "code",
   "execution_count": 18,
   "id": "b7a5312f",
   "metadata": {},
   "outputs": [
    {
     "data": {
      "text/latex": [
       "$\\displaystyle \\frac{d}{d x} f{\\left(x \\right)} = x f^{2}{\\left(x \\right)}$"
      ],
      "text/plain": [
       "d             2   \n",
       "──(f(x)) = x⋅f (x)\n",
       "dx                "
      ]
     },
     "metadata": {},
     "output_type": "display_data"
    },
    {
     "data": {
      "text/latex": [
       "$\\displaystyle f{\\left(x \\right)} = - \\frac{2}{C_{1} + x^{2}}$"
      ],
      "text/plain": [
       "         -2   \n",
       "f(x) = ───────\n",
       "             2\n",
       "       C₁ + x "
      ]
     },
     "execution_count": 18,
     "metadata": {},
     "output_type": "execute_result"
    }
   ],
   "source": [
    "from sympy.interactive import printing\n",
    "printing.init_printing(use_latex=True)\n",
    "from sympy import *\n",
    "import sympy as sp\n",
    "import math \n",
    "\n",
    "x = sp.symbols('x')\n",
    "y = sp.symbols('y')\n",
    "t = sp.symbols('t')\n",
    "\n",
    "f = sp.Function('f')(x) ## Se uma função tem apenas uma variável isto é y, y = f(x)\n",
    "g = sp.Function('g')(t)\n",
    "\n",
    "eqdif = Eq(f.diff(x), (x*f*f))\n",
    "display(eqdif)\n",
    "\n",
    "dsolve(eqdif,f)"
   ]
  },
  {
   "cell_type": "code",
   "execution_count": 17,
   "id": "7c13654a",
   "metadata": {},
   "outputs": [
    {
     "data": {
      "text/latex": [
       "$\\displaystyle \\frac{d}{d x} f{\\left(x \\right)} = \\frac{f^{2}{\\left(x \\right)}}{x} - \\frac{1}{x}$"
      ],
      "text/plain": [
       "            2       \n",
       "d          f (x)   1\n",
       "──(f(x)) = ───── - ─\n",
       "dx           x     x"
      ]
     },
     "metadata": {},
     "output_type": "display_data"
    },
    {
     "data": {
      "text/latex": [
       "$\\displaystyle f{\\left(x \\right)} = \\frac{- x^{2} e^{2 C_{1}} - 1}{x^{2} e^{2 C_{1}} - 1}$"
      ],
      "text/plain": [
       "          2  2⋅C₁    \n",
       "       - x ⋅ℯ     - 1\n",
       "f(x) = ──────────────\n",
       "         2  2⋅C₁     \n",
       "        x ⋅ℯ     - 1 "
      ]
     },
     "execution_count": 17,
     "metadata": {},
     "output_type": "execute_result"
    }
   ],
   "source": [
    "from sympy.interactive import printing\n",
    "printing.init_printing(use_latex=True)\n",
    "from sympy import *\n",
    "import sympy as sp\n",
    "import math \n",
    "\n",
    "x = sp.symbols('x')\n",
    "y = sp.symbols('y')\n",
    "t = sp.symbols('t')\n",
    "\n",
    "f = sp.Function('f')(x) ## Se uma função tem apenas uma variável isto é y, y = f(x)\n",
    "g = sp.Function('g')(t)\n",
    "\n",
    "eqdif = Eq(f.diff(x), (f*f)/ x - (1/x) )\n",
    "display(eqdif)\n",
    "\n",
    "dsolve(eqdif,f)"
   ]
  },
  {
   "cell_type": "code",
   "execution_count": 16,
   "id": "df2ac71c",
   "metadata": {},
   "outputs": [
    {
     "data": {
      "text/latex": [
       "$\\displaystyle \\frac{d}{d x} f{\\left(x \\right)} = x f{\\left(x \\right)}$"
      ],
      "text/plain": [
       "d                \n",
       "──(f(x)) = x⋅f(x)\n",
       "dx               "
      ]
     },
     "metadata": {},
     "output_type": "display_data"
    },
    {
     "data": {
      "text/latex": [
       "$\\displaystyle f{\\left(x \\right)} = C_{1} e^{\\frac{x^{2}}{2}}$"
      ],
      "text/plain": [
       "            2\n",
       "           x \n",
       "           ──\n",
       "           2 \n",
       "f(x) = C₁⋅ℯ  "
      ]
     },
     "execution_count": 16,
     "metadata": {},
     "output_type": "execute_result"
    }
   ],
   "source": [
    "from sympy.interactive import printing\n",
    "printing.init_printing(use_latex=True)\n",
    "from sympy import *\n",
    "import sympy as sp\n",
    "import math \n",
    "\n",
    "x = sp.symbols('x')\n",
    "y = sp.symbols('y')\n",
    "t = sp.symbols('t')\n",
    "\n",
    "f = sp.Function('f')(x) ## Se uma função tem apenas uma variável isto é y, y = f(x)\n",
    "g = sp.Function('g')(t)\n",
    "\n",
    "eqdif = Eq(f.diff(x), (f*x))\n",
    "display(eqdif)\n",
    "\n",
    "dsolve(eqdif,f)"
   ]
  },
  {
   "cell_type": "code",
   "execution_count": null,
   "id": "3b21d001",
   "metadata": {},
   "outputs": [],
   "source": []
  },
  {
   "cell_type": "code",
   "execution_count": null,
   "id": "510221c6",
   "metadata": {},
   "outputs": [],
   "source": []
  },
  {
   "cell_type": "code",
   "execution_count": null,
   "id": "497ce8fa",
   "metadata": {},
   "outputs": [],
   "source": []
  }
 ],
 "metadata": {
  "kernelspec": {
   "display_name": "Python 3 (ipykernel)",
   "language": "python",
   "name": "python3"
  },
  "language_info": {
   "codemirror_mode": {
    "name": "ipython",
    "version": 3
   },
   "file_extension": ".py",
   "mimetype": "text/x-python",
   "name": "python",
   "nbconvert_exporter": "python",
   "pygments_lexer": "ipython3",
   "version": "3.10.6"
  }
 },
 "nbformat": 4,
 "nbformat_minor": 5
}
