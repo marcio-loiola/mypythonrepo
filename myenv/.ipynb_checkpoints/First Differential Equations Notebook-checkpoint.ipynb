{
 "cells": [
  {
   "cell_type": "code",
   "execution_count": 1,
   "id": "89a8edfc",
   "metadata": {},
   "outputs": [
    {
     "name": "stdout",
     "output_type": "stream",
     "text": [
      "Requirement already satisfied: sympy in c:\\desenvolvimento\\teste\\python\\myenv\\lib\\site-packages (1.11.1)\n",
      "Requirement already satisfied: mpmath>=0.19 in c:\\desenvolvimento\\teste\\python\\myenv\\lib\\site-packages (from sympy) (1.2.1)\n",
      "Note: you may need to restart the kernel to use updated packages.\n"
     ]
    }
   ],
   "source": [
    "pip install sympy"
   ]
  },
  {
   "cell_type": "code",
   "execution_count": 4,
   "id": "1aafc5da",
   "metadata": {},
   "outputs": [
    {
     "data": {
      "text/latex": [
       "$\\displaystyle - 5 f{\\left(x \\right)} + \\frac{d^{2}}{d x^{2}} f{\\left(x \\right)} = 10$"
      ],
      "text/plain": [
       "            2           \n",
       "           d            \n",
       "-5⋅f(x) + ───(f(x)) = 10\n",
       "            2           \n",
       "          dx            "
      ]
     },
     "metadata": {},
     "output_type": "display_data"
    },
    {
     "data": {
      "text/latex": [
       "$\\displaystyle f{\\left(x \\right)} = C_{1} e^{- \\sqrt{5} x} + C_{2} e^{\\sqrt{5} x} - 2$"
      ],
      "text/plain": [
       "           -√5⋅x       √5⋅x    \n",
       "f(x) = C₁⋅ℯ      + C₂⋅ℯ     - 2"
      ]
     },
     "execution_count": 4,
     "metadata": {},
     "output_type": "execute_result"
    }
   ],
   "source": [
    "from sympy.interactive import printing\n",
    "printing.init_printing(use_latex=True)\n",
    "from sympy import *\n",
    "import sympy as sp\n",
    "\n",
    "x = sp.symbols('x')\n",
    "f = sp.Function('f')(x)\n",
    "\n",
    "eqdif = Eq(f.diff(x,x)-5*f, 10)\n",
    "display(eqdif)\n",
    "\n",
    "dsolve(eqdif,f)"
   ]
  },
  {
   "cell_type": "code",
   "execution_count": 3,
   "id": "88926d7c",
   "metadata": {},
   "outputs": [
    {
     "name": "stdout",
     "output_type": "stream",
     "text": [
      "Ave Maria\n"
     ]
    }
   ],
   "source": [
    "print(\"Ave Maria\")"
   ]
  },
  {
   "cell_type": "code",
   "execution_count": 15,
   "id": "f08d531b",
   "metadata": {},
   "outputs": [
    {
     "data": {
      "text/latex": [
       "$\\displaystyle - 2 x f{\\left(x \\right)} + \\frac{d}{d x} f{\\left(x \\right)} = 0$"
      ],
      "text/plain": [
       "            d           \n",
       "-2⋅x⋅f(x) + ──(f(x)) = 0\n",
       "            dx          "
      ]
     },
     "metadata": {},
     "output_type": "display_data"
    },
    {
     "data": {
      "text/latex": [
       "$\\displaystyle f{\\left(x \\right)} = C_{1} e^{x^{2}}$"
      ],
      "text/plain": [
       "           ⎛ 2⎞\n",
       "           ⎝x ⎠\n",
       "f(x) = C₁⋅ℯ    "
      ]
     },
     "execution_count": 15,
     "metadata": {},
     "output_type": "execute_result"
    }
   ],
   "source": [
    "from sympy.interactive import printing\n",
    "printing.init_printing(use_latex=True)\n",
    "from sympy import *\n",
    "import sympy as sp\n",
    "\n",
    "x = sp.symbols('x')\n",
    "y = sp.symbols('y')\n",
    "f = sp.Function('f')(x) ## Se uma função tem apenas uma variável isto é y, y = f(x)\n",
    "\n",
    "eqdif = Eq(f.diff(x)-2*x*f, 0)\n",
    "display(eqdif)\n",
    "\n",
    "dsolve(eqdif,f)"
   ]
  },
  {
   "cell_type": "code",
   "execution_count": 19,
   "id": "0a3fa208",
   "metadata": {},
   "outputs": [
    {
     "data": {
      "text/latex": [
       "$\\displaystyle - 3 x + \\frac{d}{d x} f{\\left(x \\right)} - 5 = 0$"
      ],
      "text/plain": [
       "       d               \n",
       "-3⋅x + ──(f(x)) - 5 = 0\n",
       "       dx              "
      ]
     },
     "metadata": {},
     "output_type": "display_data"
    },
    {
     "data": {
      "text/latex": [
       "$\\displaystyle f{\\left(x \\right)} = C_{1} + \\frac{3 x^{2}}{2} + 5 x$"
      ],
      "text/plain": [
       "               2      \n",
       "            3⋅x       \n",
       "f(x) = C₁ + ──── + 5⋅x\n",
       "             2        "
      ]
     },
     "execution_count": 19,
     "metadata": {},
     "output_type": "execute_result"
    }
   ],
   "source": [
    "from sympy.interactive import printing\n",
    "printing.init_printing(use_latex=True)\n",
    "from sympy import *\n",
    "import sympy as sp\n",
    "\n",
    "x = sp.symbols('x')\n",
    "y = sp.symbols('y')\n",
    "f = sp.Function('f')(x) ## Se uma função tem apenas uma variável isto é y, y = f(x)\n",
    "\n",
    "eqdif = Eq(f.diff(x)-(3*x+5), 0)\n",
    "display(eqdif)\n",
    "\n",
    "dsolve(eqdif,f)"
   ]
  },
  {
   "cell_type": "code",
   "execution_count": 31,
   "id": "2724db8b",
   "metadata": {},
   "outputs": [
    {
     "data": {
      "text/latex": [
       "$\\displaystyle - x f{\\left(x \\right)} + \\frac{d}{d x} f{\\left(x \\right)} = 0$"
      ],
      "text/plain": [
       "          d           \n",
       "-x⋅f(x) + ──(f(x)) = 0\n",
       "          dx          "
      ]
     },
     "metadata": {},
     "output_type": "display_data"
    },
    {
     "data": {
      "text/latex": [
       "$\\displaystyle f{\\left(x \\right)} = C_{1} e^{\\frac{x^{2}}{2}}$"
      ],
      "text/plain": [
       "            2\n",
       "           x \n",
       "           ──\n",
       "           2 \n",
       "f(x) = C₁⋅ℯ  "
      ]
     },
     "execution_count": 31,
     "metadata": {},
     "output_type": "execute_result"
    }
   ],
   "source": [
    "from sympy.interactive import printing\n",
    "printing.init_printing(use_latex=True)\n",
    "from sympy import *\n",
    "import sympy as sp\n",
    "import math \n",
    "\n",
    "x = sp.symbols('x')\n",
    "y = sp.symbols('y')\n",
    "t = sp.symbols('t')\n",
    "f = sp.Function('f')(x) ## Se uma função tem apenas uma variável isto é y, y = f(x)\n",
    "\n",
    "g = sp.Function('g')(t)\n",
    "\n",
    "eqdif = Eq(f.diff(x)-(x*f), 0)\n",
    "display(eqdif)\n",
    "\n",
    "dsolve(eqdif,f)"
   ]
  },
  {
   "cell_type": "code",
   "execution_count": null,
   "id": "88c88462",
   "metadata": {},
   "outputs": [],
   "source": []
  }
 ],
 "metadata": {
  "kernelspec": {
   "display_name": "Python 3 (ipykernel)",
   "language": "python",
   "name": "python3"
  },
  "language_info": {
   "codemirror_mode": {
    "name": "ipython",
    "version": 3
   },
   "file_extension": ".py",
   "mimetype": "text/x-python",
   "name": "python",
   "nbconvert_exporter": "python",
   "pygments_lexer": "ipython3",
   "version": "3.10.6"
  }
 },
 "nbformat": 4,
 "nbformat_minor": 5
}
