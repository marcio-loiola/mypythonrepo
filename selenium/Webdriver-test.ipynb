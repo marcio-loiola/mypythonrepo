{
 "cells": [
  {
   "cell_type": "code",
   "execution_count": 1,
   "id": "8c93da7c",
   "metadata": {},
   "outputs": [
    {
     "name": "stdout",
     "output_type": "stream",
     "text": [
      "Requirement already satisfied: selenium in c:\\desenvolvimento\\teste\\python\\selenium\\lib\\site-packages (4.7.2)\n",
      "Requirement already satisfied: certifi>=2021.10.8 in c:\\desenvolvimento\\teste\\python\\selenium\\lib\\site-packages (from selenium) (2022.12.7)\n",
      "Requirement already satisfied: trio~=0.17 in c:\\desenvolvimento\\teste\\python\\selenium\\lib\\site-packages (from selenium) (0.22.0)\n",
      "Requirement already satisfied: urllib3[socks]~=1.26 in c:\\desenvolvimento\\teste\\python\\selenium\\lib\\site-packages (from selenium) (1.26.13)\n",
      "Requirement already satisfied: trio-websocket~=0.9 in c:\\desenvolvimento\\teste\\python\\selenium\\lib\\site-packages (from selenium) (0.9.2)\n",
      "Requirement already satisfied: idna in c:\\desenvolvimento\\teste\\python\\selenium\\lib\\site-packages (from trio~=0.17->selenium) (3.4)\n",
      "Requirement already satisfied: sniffio in c:\\desenvolvimento\\teste\\python\\selenium\\lib\\site-packages (from trio~=0.17->selenium) (1.3.0)\n",
      "Requirement already satisfied: exceptiongroup>=1.0.0rc9 in c:\\desenvolvimento\\teste\\python\\selenium\\lib\\site-packages (from trio~=0.17->selenium) (1.1.0)\n",
      "Requirement already satisfied: cffi>=1.14 in c:\\desenvolvimento\\teste\\python\\selenium\\lib\\site-packages (from trio~=0.17->selenium) (1.15.1)\n",
      "Requirement already satisfied: attrs>=19.2.0 in c:\\desenvolvimento\\teste\\python\\selenium\\lib\\site-packages (from trio~=0.17->selenium) (22.2.0)\n",
      "Requirement already satisfied: outcome in c:\\desenvolvimento\\teste\\python\\selenium\\lib\\site-packages (from trio~=0.17->selenium) (1.2.0)\n",
      "Requirement already satisfied: async-generator>=1.9 in c:\\desenvolvimento\\teste\\python\\selenium\\lib\\site-packages (from trio~=0.17->selenium) (1.10)\n",
      "Requirement already satisfied: sortedcontainers in c:\\desenvolvimento\\teste\\python\\selenium\\lib\\site-packages (from trio~=0.17->selenium) (2.4.0)\n",
      "Requirement already satisfied: wsproto>=0.14 in c:\\desenvolvimento\\teste\\python\\selenium\\lib\\site-packages (from trio-websocket~=0.9->selenium) (1.2.0)\n",
      "Requirement already satisfied: PySocks!=1.5.7,<2.0,>=1.5.6 in c:\\desenvolvimento\\teste\\python\\selenium\\lib\\site-packages (from urllib3[socks]~=1.26->selenium) (1.7.1)\n",
      "Requirement already satisfied: pycparser in c:\\desenvolvimento\\teste\\python\\selenium\\lib\\site-packages (from cffi>=1.14->trio~=0.17->selenium) (2.21)\n",
      "Requirement already satisfied: h11<1,>=0.9.0 in c:\\desenvolvimento\\teste\\python\\selenium\\lib\\site-packages (from wsproto>=0.14->trio-websocket~=0.9->selenium) (0.14.0)\n",
      "Note: you may need to restart the kernel to use updated packages.\n"
     ]
    }
   ],
   "source": [
    "pip install selenium "
   ]
  },
  {
   "cell_type": "code",
   "execution_count": 2,
   "id": "48fd1cab",
   "metadata": {},
   "outputs": [
    {
     "name": "stdout",
     "output_type": "stream",
     "text": [
      "Requirement already satisfied: webdriver-manager in c:\\desenvolvimento\\teste\\python\\selenium\\lib\\site-packages (3.8.5)\n",
      "Requirement already satisfied: packaging in c:\\desenvolvimento\\teste\\python\\selenium\\lib\\site-packages (from webdriver-manager) (22.0)\n",
      "Requirement already satisfied: python-dotenv in c:\\desenvolvimento\\teste\\python\\selenium\\lib\\site-packages (from webdriver-manager) (0.21.0)\n",
      "Requirement already satisfied: tqdm in c:\\desenvolvimento\\teste\\python\\selenium\\lib\\site-packages (from webdriver-manager) (4.64.1)\n",
      "Requirement already satisfied: requests in c:\\desenvolvimento\\teste\\python\\selenium\\lib\\site-packages (from webdriver-manager) (2.28.1)\n",
      "Requirement already satisfied: urllib3<1.27,>=1.21.1 in c:\\desenvolvimento\\teste\\python\\selenium\\lib\\site-packages (from requests->webdriver-manager) (1.26.13)\n",
      "Requirement already satisfied: certifi>=2017.4.17 in c:\\desenvolvimento\\teste\\python\\selenium\\lib\\site-packages (from requests->webdriver-manager) (2022.12.7)\n",
      "Requirement already satisfied: idna<4,>=2.5 in c:\\desenvolvimento\\teste\\python\\selenium\\lib\\site-packages (from requests->webdriver-manager) (3.4)\n",
      "Requirement already satisfied: charset-normalizer<3,>=2 in c:\\desenvolvimento\\teste\\python\\selenium\\lib\\site-packages (from requests->webdriver-manager) (2.1.1)\n",
      "Requirement already satisfied: colorama in c:\\desenvolvimento\\teste\\python\\selenium\\lib\\site-packages (from tqdm->webdriver-manager) (0.4.6)\n",
      "Note: you may need to restart the kernel to use updated packages.\n"
     ]
    }
   ],
   "source": [
    "pip install webdriver-manager"
   ]
  },
  {
   "cell_type": "code",
   "execution_count": 3,
   "id": "c60682b8",
   "metadata": {},
   "outputs": [
    {
     "name": "stderr",
     "output_type": "stream",
     "text": [
      "[WDM] - Downloading: 19.0kB [00:00, 3.65MB/s]                              \n"
     ]
    }
   ],
   "source": [
    "from selenium import webdriver\n",
    "from selenium.webdriver.firefox.service import Service\n",
    "from webdriver_manager.firefox import GeckoDriverManager\n",
    "from selenium.webdriver.firefox.firefox_binary import FirefoxBinary\n",
    "\n",
    "driver = webdriver.Firefox(service=Service(executable_path=GeckoDriverManager().install()))\n",
    "driver.get(\"https://newgitlab.great.ufc.br/\")\n",
    "\n",
    "login_box = driver.find_element(\"name\", \"user[login]\")\n",
    "password_box = driver.find_element(\"name\", \"user[password]\")\n",
    "\n",
    "login_box.send_keys('marciogomes')\n",
    "password_box.send_keys('#sirius084')\n",
    "\n",
    "login_box.submit()\n",
    "password_box.submit()\n"
   ]
  },
  {
   "cell_type": "code",
   "execution_count": null,
   "id": "f1e80dc1",
   "metadata": {},
   "outputs": [],
   "source": []
  }
 ],
 "metadata": {
  "kernelspec": {
   "display_name": "Python 3 (ipykernel)",
   "language": "python",
   "name": "python3"
  },
  "language_info": {
   "codemirror_mode": {
    "name": "ipython",
    "version": 3
   },
   "file_extension": ".py",
   "mimetype": "text/x-python",
   "name": "python",
   "nbconvert_exporter": "python",
   "pygments_lexer": "ipython3",
   "version": "3.10.6"
  }
 },
 "nbformat": 4,
 "nbformat_minor": 5
}
