{
 "cells": [
  {
   "cell_type": "code",
   "execution_count": 1,
   "id": "c60682b8",
   "metadata": {},
   "outputs": [
    {
     "name": "stderr",
     "output_type": "stream",
     "text": [
      "[WDM] - Downloading: 19.0kB [00:00, 5.05MB/s]                                                                          \n"
     ]
    }
   ],
   "source": [
    "from selenium import webdriver\n",
    "from selenium.webdriver.firefox.service import Service\n",
    "from webdriver_manager.firefox import GeckoDriverManager\n",
    "from selenium.webdriver.firefox.firefox_binary import FirefoxBinary\n",
    "\n",
    "driver = webdriver.Firefox(service=Service(executable_path=GeckoDriverManager().install()))\n",
    "driver.get(\"https://newgitlab.great.ufc.br/\")\n",
    "\n",
    "login_box = driver.find_element(\"name\", \"user[login]\")\n",
    "password_box = driver.find_element(\"name\", \"user[password]\")\n",
    "\n",
    "login_box.send_keys('marciogomes')\n",
    "password_box.send_keys('#sirius084')\n",
    "\n",
    "login_box.submit()\n",
    "password_box.submit()\n"
   ]
  },
  {
   "cell_type": "code",
   "execution_count": null,
   "id": "f1e80dc1",
   "metadata": {},
   "outputs": [],
   "source": []
  }
 ],
 "metadata": {
  "jupytext": {
   "formats": "ipynb,auto:light"
  },
  "kernelspec": {
   "display_name": "Python 3 (ipykernel)",
   "language": "python",
   "name": "python3"
  },
  "language_info": {
   "codemirror_mode": {
    "name": "ipython",
    "version": 3
   },
   "file_extension": ".py",
   "mimetype": "text/x-python",
   "name": "python",
   "nbconvert_exporter": "python",
   "pygments_lexer": "ipython3",
   "version": "3.10.6"
  }
 },
 "nbformat": 4,
 "nbformat_minor": 5
}
